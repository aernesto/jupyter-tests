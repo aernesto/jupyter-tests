{
 "cells": [
  {
   "cell_type": "markdown",
   "metadata": {},
   "source": [
    "# Implementation of MCMC algorithm from Chib 1996"
   ]
  },
  {
   "cell_type": "markdown",
   "metadata": {},
   "source": [
    "**Reference:** Chib. S. (1996), \"Calculating Posterior Distributions and Modal Estimates in Markov Mixture Models\", _Journal of Econometrics_, 75, 79-97.  "
   ]
  },
  {
   "cell_type": "markdown",
   "metadata": {},
   "source": [
    "## The generative model"
   ]
  },
  {
   "cell_type": "markdown",
   "metadata": {},
   "source": [
    "I plan on simulating data similar to the _Poisson fetal data_ reported in section 4.1 of the paper."
   ]
  },
  {
   "cell_type": "markdown",
   "metadata": {},
   "source": [
    "The code below simply is a header for the Python code to come."
   ]
  },
  {
   "cell_type": "code",
   "execution_count": 32,
   "metadata": {
    "collapsed": true
   },
   "outputs": [],
   "source": [
    "#from __future__ import print_function # for compatibility with Python 2\n",
    "from ipywidgets import interact, interactive, fixed, interact_manual\n",
    "import ipywidgets as widgets\n",
    "from IPython.display import display\n",
    "%matplotlib inline\n",
    "import matplotlib.pyplot as plt; plt.rcdefaults()\n",
    "import matplotlib.pyplot as plt\n",
    "import numpy as np\n",
    "from scipy.stats import rv_discrete, beta\n",
    "from scipy import stats\n",
    "import scipy"
   ]
  },
  {
   "cell_type": "markdown",
   "metadata": {},
   "source": [
    "We consider a HMM where \n",
    "$$s_t\\in\\{1,2\\}$$\n",
    "is a _hidden_ state variable controlling the rate \n",
    "$$\\lambda_{s_t}\\in \\{\\lambda_1,\\lambda_2\\}$$\n",
    "of a Poisson random variable \n",
    "$$y_t$$\n",
    "which is _observed_ on N=240 consecutive 5-second intervals.\n",
    "\n",
    "The hidden process is a Markov Chain evolving according to the transition matrix\n",
    "$$P$$"
   ]
  },
  {
   "cell_type": "markdown",
   "metadata": {},
   "source": [
    "Select the two rates `lambda1`, `lambda2` (Hz), the hazard rate `h` (in [0,1]) of the hidden chain, and the total number `N` of observations, for generating simulated data (the sliders and boxes next to them are _interactive!_)."
   ]
  },
  {
   "cell_type": "code",
   "execution_count": 33,
   "metadata": {},
   "outputs": [
    {
     "data": {
      "application/vnd.jupyter.widget-view+json": {
       "model_id": "2d7ba56529b948ae98e73158b24c260c"
      }
     },
     "metadata": {},
     "output_type": "display_data"
    }
   ],
   "source": [
    "def f(lambda1=1.0, lambda2=2.0, h=.1000, N=240):\n",
    "    return np.array([lambda1, lambda2, h, N])\n",
    "w = interactive(f, lambda1=(0.0,20.0), lambda2=(0.0,20.0), h=(0.0,1.0,0.001),N=(100,1000))\n",
    "display(w)"
   ]
  },
  {
   "cell_type": "markdown",
   "metadata": {},
   "source": [
    "We produce the observations here"
   ]
  },
  {
   "cell_type": "code",
   "execution_count": 34,
   "metadata": {},
   "outputs": [
    {
     "data": {
      "image/png": "[encoded data removed]",
      "text/plain": [
       "<matplotlib.figure.Figure at 0x7f3bf6797ac8>"
      ]
     },
     "metadata": {},
     "output_type": "display_data"
    }
   ],
   "source": [
    "lambda1, lambda2, h, N = w.result\n",
    "N = int(N)\n",
    "states = np.array([lambda1, lambda2])\n",
    "time = np.arange(N) + 1\n",
    "y_pos = np.arange(len(time))\n",
    "counts = np.zeros(len(time))\n",
    "\n",
    "# function that switches the environment state that is given as argument\n",
    "def switch(rate):\n",
    "    try:\n",
    "        if rate in states:\n",
    "            if rate == states[0]:\n",
    "                return states[1]\n",
    "            else:\n",
    "                return states[0]\n",
    "        else:\n",
    "            raise ValueError(\"Error in argument 'rate': must be an element of \"\n",
    "                             \"'states'\")\n",
    "    except ValueError as err:\n",
    "        print(err.args)\n",
    "\n",
    "last_state = states[0]  # Force environment in state 1 at time 1\n",
    "for t in np.arange(N):\n",
    "    draw = np.random.uniform()\n",
    "    if t == 0 or (draw > h):\n",
    "        new_state = last_state\n",
    "    else:\n",
    "        new_state = switch(last_state)\n",
    "        \n",
    "    counts[t] = np.random.poisson(5*new_state) \n",
    "    last_state = new_state\n",
    "\n",
    "# plt.figure(1)\n",
    "plt.bar(y_pos, counts, align='center', alpha=0.5)\n",
    "# plt.xticks(y_pos, time)\n",
    "plt.xlabel('time bin')\n",
    "plt.ylabel('counts')\n",
    "plt.title('Simulated data')\n",
    "\n",
    "plt.show()"
   ]
  },
  {
   "cell_type": "markdown",
   "metadata": {},
   "source": [
    "We now need to simulate the joint posterior over the state using\n",
    "$$p(S_n|Y_n,\\theta)=p(s_n|Y_n,\\theta)\\times\\cdots\\times p(s_t|Y_n,S^{t+1},\\theta)\\times \\cdots\\times p(s_1|Y_n,S^2,\\theta)$$"
   ]
  },
  {
   "cell_type": "markdown",
   "metadata": {},
   "source": [
    "To sample from the LHS, it is enough to sample sequentially from each term on the RHS.\n",
    "The typical RHS term is \n",
    "$$p(s_t|Y_n,S^{t+1},\\theta)\\propto p(s_t|Y_t,\\theta)\\times p(s_{t+1}|s_t,\\theta)$$\n"
   ]
  },
  {
   "cell_type": "markdown",
   "metadata": {},
   "source": [
    "Furthermore, once we know $$p(s_{t-1}|Y_{t-1}.\\theta)$$ the _prediction step_ yields,\n",
    "$$p(s_t|Y_{t-1},\\theta)=\\sum_{k=1}^2 p(s_t|s_{t-1}=k,\\theta)\\times p(s_{t-1}=k|Y_{t-1},\\theta)$$\n",
    "and the _update step_:\n",
    "$$p(s_t|Y_t,\\theta)\\propto p(s_t|Y_{t-1},\\theta)\\times f(y_t|Y_{t-1},\\theta_{s_t})$$"
   ]
  },
  {
   "cell_type": "markdown",
   "metadata": {},
   "source": [
    "In all the equations above, theta stands for the unknown hazard rate h, which, at this stage, must be sampled from a Beta prior. Choose below your Beta prior hyperparameters a and b:"
   ]
  },
  {
   "cell_type": "code",
   "execution_count": 58,
   "metadata": {},
   "outputs": [
    {
     "data": {
      "application/vnd.jupyter.widget-view+json": {
       "model_id": "71eb7e13dd314efdbefbc6a5e9325078"
      }
     },
     "metadata": {},
     "output_type": "display_data"
    }
   ],
   "source": [
    "def g(a=1.0, b=1.0):\n",
    "#     return np.array([alpha, beta])\n",
    "# w = interactive(g, alpha=(1,20), beta=(1,20))\n",
    "# display(w)\n",
    "# def f(m, b):\n",
    "    plt.figure(2)\n",
    "#     fig, ax = plt.subplots(1, 1)\n",
    "    x = np.linspace(beta.ppf(0.01, a, b), beta.ppf(0.99, a, b), 100)\n",
    "    a = a\n",
    "    b = b\n",
    "    plt.plot(x, beta.pdf(x, a, b), 'r-', lw=5, a=0.6, label='prior over h')\n",
    "#     plt.ylim(-5, 5)\n",
    "    plt.show()\n",
    "\n",
    "interactive_plot = interactive(g, a=(1.0,20.0), b=(1.0,20.0))\n",
    "output = interactive_plot.children[-1]\n",
    "output.layout.height = '2000px'\n",
    "interactive_plot\n",
    "\n",
    "# ax.plot(x, beta.pdf(x, alpha, beta), 'r-', lw=5, alpha=0.6, label='prior over h')\n"
   ]
  },
  {
   "cell_type": "markdown",
   "metadata": {},
   "source": [
    "The following is just a class to handily compute Poisson pdfs"
   ]
  },
  {
   "cell_type": "code",
   "execution_count": 53,
   "metadata": {},
   "outputs": [
    {
     "data": {
      "image/png": "[encoded data removed]",
      "text/plain": [
       "<matplotlib.figure.Figure at 0x7f3bf64fd7b8>"
      ]
     },
     "metadata": {},
     "output_type": "display_data"
    }
   ],
   "source": [
    "# fig, ax = plt.subplots(1, 1)\n",
    "plt.figure(3)\n",
    "a, b = (1, 1)\n",
    "x = np.linspace(beta.ppf(0.01, a, b), beta.ppf(0.99, a, b), 100)\n",
    "plt.plot(x, beta.pdf(x, a, b), 'r-', lw=5, alpha=0.6, label='beta pdf')\n",
    "plt.show()"
   ]
  },
  {
   "cell_type": "code",
   "execution_count": 37,
   "metadata": {
    "collapsed": true
   },
   "outputs": [],
   "source": [
    "# Ref: https://docs.scipy.org/doc/scipy/reference/generated/scipy.stats.rv_discrete.html\n",
    "class poisson_gen(rv_discrete):\n",
    "    \"Poisson distribution\"\n",
    "    def _pmf(self, k, mu):\n",
    "        return np.exp(-mu) * mu**k / scipy.misc.factorial(k)"
   ]
  },
  {
   "cell_type": "code",
   "execution_count": 38,
   "metadata": {
    "collapsed": true
   },
   "outputs": [],
   "source": [
    "poisson = poisson_gen(name=\"poisson\")"
   ]
  },
  {
   "cell_type": "code",
   "execution_count": 39,
   "metadata": {},
   "outputs": [
    {
     "name": "stdout",
     "output_type": "stream",
     "text": [
      "0.367879441171\n"
     ]
    }
   ],
   "source": [
    "print(poisson._pmf(1,1))"
   ]
  },
  {
   "cell_type": "markdown",
   "metadata": {},
   "source": [
    "We initialize with the stationary distribution"
   ]
  },
  {
   "cell_type": "code",
   "execution_count": 40,
   "metadata": {
    "collapsed": true
   },
   "outputs": [],
   "source": [
    "xk = np.array([1,2])\n",
    "pk = np.array([0.5,0.5])\n",
    "curr_post = stats.rv_discrete(name='curr_post', values=(xk, pk))"
   ]
  },
  {
   "cell_type": "code",
   "execution_count": 41,
   "metadata": {
    "collapsed": true
   },
   "outputs": [],
   "source": [
    "S = np.zeros(N)"
   ]
  },
  {
   "cell_type": "code",
   "execution_count": 42,
   "metadata": {
    "collapsed": true
   },
   "outputs": [],
   "source": [
    "S[0] = curr_post.rvs()"
   ]
  },
  {
   "cell_type": "code",
   "execution_count": 43,
   "metadata": {
    "collapsed": true
   },
   "outputs": [],
   "source": [
    "unnorm = np.zeros(2)"
   ]
  },
  {
   "cell_type": "code",
   "execution_count": 44,
   "metadata": {
    "collapsed": true
   },
   "outputs": [],
   "source": [
    "def rate_fcn(state):\n",
    "    if state == 1:\n",
    "        return lambda1\n",
    "    else:\n",
    "        return lambda2\n",
    "        "
   ]
  },
  {
   "cell_type": "code",
   "execution_count": 45,
   "metadata": {},
   "outputs": [
    {
     "name": "stdout",
     "output_type": "stream",
     "text": [
      "[ 0.00153283  0.0180447 ]\n",
      "0.0195775354364\n"
     ]
    }
   ],
   "source": [
    "unnorm[0]=curr_post.pmf(1)*poisson._pmf(counts[0],rate_fcn(1))\n",
    "unnorm[1]=curr_post.pmf(2)*poisson._pmf(counts[0],rate_fcn(2))\n",
    "print(unnorm)\n",
    "print(unnorm.sum())"
   ]
  },
  {
   "cell_type": "code",
   "execution_count": 46,
   "metadata": {},
   "outputs": [
    {
     "name": "stdout",
     "output_type": "stream",
     "text": [
      "[ 0.0782954  0.9217046]\n"
     ]
    }
   ],
   "source": [
    "pk = np.divide(unnorm, unnorm.sum())\n",
    "print(pk)\n",
    "curr_post = stats.rv_discrete(name='curr_post', values=(xk, pk))"
   ]
  },
  {
   "cell_type": "code",
   "execution_count": 47,
   "metadata": {
    "collapsed": true
   },
   "outputs": [],
   "source": [
    "S[1] = curr_post.rvs()"
   ]
  },
  {
   "cell_type": "code",
   "execution_count": 48,
   "metadata": {},
   "outputs": [
    {
     "name": "stdout",
     "output_type": "stream",
     "text": [
      "[ 2.  2.]\n"
     ]
    }
   ],
   "source": [
    "print(S[0:2])"
   ]
  },
  {
   "cell_type": "code",
   "execution_count": null,
   "metadata": {
    "collapsed": true
   },
   "outputs": [],
   "source": []
  }
 ],
 "metadata": {
  "kernelspec": {
   "display_name": "Python 3",
   "language": "python",
   "name": "python3"
  },
  "language_info": {
   "codemirror_mode": {
    "name": "ipython",
    "version": 3
   },
   "file_extension": ".py",
   "mimetype": "text/x-python",
   "name": "python",
   "nbconvert_exporter": "python",
   "pygments_lexer": "ipython3",
   "version": "3.6.2"
  }
 },
 "nbformat": 4,
 "nbformat_minor": 2
}
