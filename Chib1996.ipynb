{
 "cells": [
  {
   "cell_type": "markdown",
   "metadata": {},
   "source": [
    "# Implementation of MCMC algorithm from Chib 1996"
   ]
  },
  {
   "cell_type": "markdown",
   "metadata": {},
   "source": [
    "**Reference:** Chib. S. (1996), \"Calculating Posterior Distributions and Modal Estimates in Markov Mixture Models\", _Journal of Econometrics_, 75, 79-97.  "
   ]
  },
  {
   "cell_type": "markdown",
   "metadata": {},
   "source": [
    "## The generative model"
   ]
  },
  {
   "cell_type": "markdown",
   "metadata": {},
   "source": [
    "I plan on simulating data similar to the _Poisson fetal data_ reported in section 4.1 of the paper."
   ]
  },
  {
   "cell_type": "markdown",
   "metadata": {},
   "source": [
    "The code below simply is a header for the Python code to come."
   ]
  },
  {
   "cell_type": "code",
   "execution_count": 52,
   "metadata": {},
   "outputs": [],
   "source": [
    "from __future__ import print_function\n",
    "from ipywidgets import interact, interactive, fixed, interact_manual\n",
    "import ipywidgets as widgets\n",
    "from IPython.display import display\n",
    "%matplotlib inline\n",
    "import matplotlib.pyplot as plt; plt.rcdefaults()\n",
    "import matplotlib.pyplot as plt\n",
    "import numpy as np"
   ]
  },
  {
   "cell_type": "markdown",
   "metadata": {},
   "source": [
    "We consider a HMM where \n",
    "$$s_t\\in\\{1,2\\}$$\n",
    "is a _hidden_ state variable controlling the rate \n",
    "$$\\lambda_{s_t}\\in \\{\\lambda_1,\\lambda_2\\}$$\n",
    "of a Poisson random variable \n",
    "$$y_t$$\n",
    "which is _observed_ on N=240 consecutive 5-second intervals.\n",
    "\n",
    "The hidden process is a Markov Chain evolving according to the transition matrix\n",
    "$$P$$"
   ]
  },
  {
   "cell_type": "markdown",
   "metadata": {},
   "source": [
    "Select the two rates `lambda1`, `lambda2` (Hz), the hazard rate `h` (in [0,1]) of the hidden chain, and the total number `N` of observations, for generating simulated data (the sliders and boxes next to them are _interactive!_)."
   ]
  },
  {
   "cell_type": "code",
   "execution_count": 53,
   "metadata": {},
   "outputs": [
    {
     "data": {
      "application/vnd.jupyter.widget-view+json": {
       "model_id": "47feeb58acff44f0a4abcae1777c742c"
      }
     },
     "metadata": {},
     "output_type": "display_data"
    }
   ],
   "source": [
    "def f(lambda1=1.0, lambda2=2.0, h=1.0, N=240):\n",
    "    return np.array([lambda1, lambda2, h, N])\n",
    "w = interactive(f, lambda1=(0.0,20.0), lambda2=(0.0,20.0), h=(0.0,30.0),N=(100,1000))\n",
    "display(w)"
   ]
  },
  {
   "cell_type": "code",
   "execution_count": 54,
   "metadata": {},
   "outputs": [
    {
     "name": "stdout",
     "output_type": "stream",
     "text": [
      "[   1.    2.    1.  240.]\n"
     ]
    }
   ],
   "source": [
    "# print(w.kwargs)\n",
    "print(w.result)"
   ]
  },
  {
   "cell_type": "markdown",
   "metadata": {},
   "source": [
    "We produce the observations here"
   ]
  },
  {
   "cell_type": "code",
   "execution_count": 57,
   "metadata": {},
   "outputs": [
    {
     "data": {
      "image/png": "[encoded data removed]",
      "text/plain": [
       "<matplotlib.figure.Figure at 0x7f25c398ffd0>"
      ]
     },
     "metadata": {},
     "output_type": "display_data"
    }
   ],
   "source": [
    "lambda1, lambda2, h, N = w.result\n",
    "N = int(N)\n",
    "states = np.array([lambda1, lambda2])\n",
    "time = np.arange(N) + 1\n",
    "y_pos = np.arange(len(time))\n",
    "counts = np.zeros((len(time),1))\n",
    "\n",
    "# function that switches the environment state that is given as argument\n",
    "def switch(rate):\n",
    "    try:\n",
    "        if rate in states:\n",
    "            if rate == states[0]:\n",
    "                return states[1]\n",
    "            else:\n",
    "                return states[0]\n",
    "        else:\n",
    "            raise ValueError(\"Error in argument 'rate': must be an element of \"\n",
    "                             \"'states'\")\n",
    "    except ValueError as err:\n",
    "        print(err.args)\n",
    "\n",
    "last_state = states[0]  # Force environment in state 1 at time 1\n",
    "for t in np.arange(N):\n",
    "    draw = np.random.uniform()\n",
    "    if t == 0 or (draw > h):\n",
    "        new_state = last_state\n",
    "    else:\n",
    "        new_state = switch(last_state)\n",
    "        \n",
    "    counts[t] = np.random.poisson(5*new_state) \n",
    "    last_state = new_state\n",
    " \n",
    "plt.bar(y_pos, counts, align='center', alpha=0.5)\n",
    "# plt.xticks(y_pos, time)\n",
    "plt.xlabel('time bin')\n",
    "plt.ylabel('counts')\n",
    "plt.title('Simulated data')\n",
    "\n",
    "plt.show()"
   ]
  },
  {
   "cell_type": "code",
   "execution_count": 56,
   "metadata": {},
   "outputs": [
    {
     "data": {
      "application/vnd.jupyter.widget-view+json": {
       "model_id": "7893f5c743f0494f8ad2f2dfb4dd4649"
      }
     },
     "metadata": {},
     "output_type": "display_data"
    }
   ],
   "source": [
    "def f(m, b):\n",
    "    plt.figure(2)\n",
    "    x = np.linspace(-10, 10, num=1000)\n",
    "    plt.plot(x, m * x + b)\n",
    "    plt.ylim(-5, 5)\n",
    "    plt.show()\n",
    "\n",
    "interactive_plot = interactive(f, m=(-2.0, 2.0), b=(-3, 3, 0.5))\n",
    "interactive_plot.layout.height = '350px'\n",
    "interactive_plot"
   ]
  }
 ],
 "metadata": {
  "kernelspec": {
   "display_name": "Python 3",
   "language": "python",
   "name": "python3"
  },
  "language_info": {
   "codemirror_mode": {
    "name": "ipython",
    "version": 3
   },
   "file_extension": ".py",
   "mimetype": "text/x-python",
   "name": "python",
   "nbconvert_exporter": "python",
   "pygments_lexer": "ipython3",
   "version": "3.6.1"
  }
 },
 "nbformat": 4,
 "nbformat_minor": 2
}
